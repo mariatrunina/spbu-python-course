{
 "cells": [
  {
   "cell_type": "markdown",
   "id": "79b986e2-233f-453f-8628-5229d3c526cc",
   "metadata": {},
   "source": [
    "# Шаг1: Импорт библиотек"
   ]
  },
  {
   "cell_type": "code",
   "execution_count": 39,
   "id": "bc723622-548b-4598-b8c4-022ed02adb68",
   "metadata": {},
   "outputs": [],
   "source": [
    "import pandas as pd\n",
    "import numpy as np\n",
    "import matplotlib.pyplot as plt\n",
    "import seaborn as sns\n",
    "from sklearn.model_selection import train_test_split\n",
    "from sklearn.ensemble import RandomForestClassifier\n",
    "from sklearn.tree import DecisionTreeClassifier\n",
    "from sklearn.linear_model import LogisticRegression, LinearRegression\n",
    "from sklearn.metrics import precision_score, recall_score, accuracy_score, f1_score, mean_squared_error\n",
    "from sklearn.preprocessing import StandardScaler\n",
    "from IPython.display import display"
   ]
  },
  {
   "cell_type": "markdown",
   "id": "2b0608a9-dea2-481d-802a-d7b38d667fd7",
   "metadata": {},
   "source": [
    "# Шаг2: Чтение файла и импорт данных"
   ]
  },
  {
   "cell_type": "code",
   "execution_count": 40,
   "id": "ed7a8a46-0c90-44e6-817e-f3219a7e3ed6",
   "metadata": {},
   "outputs": [
    {
     "data": {
      "text/plain": [
       "'Данные после загрузки:'"
      ]
     },
     "metadata": {},
     "output_type": "display_data"
    },
    {
     "data": {
      "text/html": [
       "<div>\n",
       "<style scoped>\n",
       "    .dataframe tbody tr th:only-of-type {\n",
       "        vertical-align: middle;\n",
       "    }\n",
       "\n",
       "    .dataframe tbody tr th {\n",
       "        vertical-align: top;\n",
       "    }\n",
       "\n",
       "    .dataframe thead th {\n",
       "        text-align: right;\n",
       "    }\n",
       "</style>\n",
       "<table border=\"1\" class=\"dataframe\">\n",
       "  <thead>\n",
       "    <tr style=\"text-align: right;\">\n",
       "      <th></th>\n",
       "      <th>PassengerId</th>\n",
       "      <th>Survived</th>\n",
       "      <th>Pclass</th>\n",
       "      <th>Name</th>\n",
       "      <th>Sex</th>\n",
       "      <th>Age</th>\n",
       "      <th>SibSp</th>\n",
       "      <th>Parch</th>\n",
       "      <th>Ticket</th>\n",
       "      <th>Fare</th>\n",
       "      <th>Cabin</th>\n",
       "      <th>Embarked</th>\n",
       "    </tr>\n",
       "  </thead>\n",
       "  <tbody>\n",
       "    <tr>\n",
       "      <th>0</th>\n",
       "      <td>1</td>\n",
       "      <td>0</td>\n",
       "      <td>3</td>\n",
       "      <td>Braund, Mr. Owen Harris</td>\n",
       "      <td>male</td>\n",
       "      <td>22.0</td>\n",
       "      <td>1</td>\n",
       "      <td>0</td>\n",
       "      <td>A/5 21171</td>\n",
       "      <td>7.2500</td>\n",
       "      <td>NaN</td>\n",
       "      <td>S</td>\n",
       "    </tr>\n",
       "    <tr>\n",
       "      <th>1</th>\n",
       "      <td>2</td>\n",
       "      <td>1</td>\n",
       "      <td>1</td>\n",
       "      <td>Cumings, Mrs. John Bradley (Florence Briggs Th...</td>\n",
       "      <td>female</td>\n",
       "      <td>38.0</td>\n",
       "      <td>1</td>\n",
       "      <td>0</td>\n",
       "      <td>PC 17599</td>\n",
       "      <td>71.2833</td>\n",
       "      <td>C85</td>\n",
       "      <td>C</td>\n",
       "    </tr>\n",
       "    <tr>\n",
       "      <th>2</th>\n",
       "      <td>3</td>\n",
       "      <td>1</td>\n",
       "      <td>3</td>\n",
       "      <td>Heikkinen, Miss. Laina</td>\n",
       "      <td>female</td>\n",
       "      <td>26.0</td>\n",
       "      <td>0</td>\n",
       "      <td>0</td>\n",
       "      <td>STON/O2. 3101282</td>\n",
       "      <td>7.9250</td>\n",
       "      <td>NaN</td>\n",
       "      <td>S</td>\n",
       "    </tr>\n",
       "    <tr>\n",
       "      <th>3</th>\n",
       "      <td>4</td>\n",
       "      <td>1</td>\n",
       "      <td>1</td>\n",
       "      <td>Futrelle, Mrs. Jacques Heath (Lily May Peel)</td>\n",
       "      <td>female</td>\n",
       "      <td>35.0</td>\n",
       "      <td>1</td>\n",
       "      <td>0</td>\n",
       "      <td>113803</td>\n",
       "      <td>53.1000</td>\n",
       "      <td>C123</td>\n",
       "      <td>S</td>\n",
       "    </tr>\n",
       "    <tr>\n",
       "      <th>4</th>\n",
       "      <td>5</td>\n",
       "      <td>0</td>\n",
       "      <td>3</td>\n",
       "      <td>Allen, Mr. William Henry</td>\n",
       "      <td>male</td>\n",
       "      <td>35.0</td>\n",
       "      <td>0</td>\n",
       "      <td>0</td>\n",
       "      <td>373450</td>\n",
       "      <td>8.0500</td>\n",
       "      <td>NaN</td>\n",
       "      <td>S</td>\n",
       "    </tr>\n",
       "  </tbody>\n",
       "</table>\n",
       "</div>"
      ],
      "text/plain": [
       "   PassengerId  Survived  Pclass  \\\n",
       "0            1         0       3   \n",
       "1            2         1       1   \n",
       "2            3         1       3   \n",
       "3            4         1       1   \n",
       "4            5         0       3   \n",
       "\n",
       "                                                Name     Sex   Age  SibSp  \\\n",
       "0                            Braund, Mr. Owen Harris    male  22.0      1   \n",
       "1  Cumings, Mrs. John Bradley (Florence Briggs Th...  female  38.0      1   \n",
       "2                             Heikkinen, Miss. Laina  female  26.0      0   \n",
       "3       Futrelle, Mrs. Jacques Heath (Lily May Peel)  female  35.0      1   \n",
       "4                           Allen, Mr. William Henry    male  35.0      0   \n",
       "\n",
       "   Parch            Ticket     Fare Cabin Embarked  \n",
       "0      0         A/5 21171   7.2500   NaN        S  \n",
       "1      0          PC 17599  71.2833   C85        C  \n",
       "2      0  STON/O2. 3101282   7.9250   NaN        S  \n",
       "3      0            113803  53.1000  C123        S  \n",
       "4      0            373450   8.0500   NaN        S  "
      ]
     },
     "metadata": {},
     "output_type": "display_data"
    },
    {
     "name": "stdout",
     "output_type": "stream",
     "text": [
      "<class 'pandas.core.frame.DataFrame'>\n",
      "RangeIndex: 891 entries, 0 to 890\n",
      "Data columns (total 12 columns):\n",
      " #   Column       Non-Null Count  Dtype  \n",
      "---  ------       --------------  -----  \n",
      " 0   PassengerId  891 non-null    int64  \n",
      " 1   Survived     891 non-null    int64  \n",
      " 2   Pclass       891 non-null    int64  \n",
      " 3   Name         891 non-null    object \n",
      " 4   Sex          891 non-null    object \n",
      " 5   Age          714 non-null    float64\n",
      " 6   SibSp        891 non-null    int64  \n",
      " 7   Parch        891 non-null    int64  \n",
      " 8   Ticket       891 non-null    object \n",
      " 9   Fare         891 non-null    float64\n",
      " 10  Cabin        204 non-null    object \n",
      " 11  Embarked     889 non-null    object \n",
      "dtypes: float64(2), int64(5), object(5)\n",
      "memory usage: 83.7+ KB\n"
     ]
    },
    {
     "data": {
      "text/plain": [
       "None"
      ]
     },
     "metadata": {},
     "output_type": "display_data"
    }
   ],
   "source": [
    "data = pd.read_csv('/workspaces/spbu-python-course/project/titanik#9/titanic.csv')\n",
    "display(\"Данные после загрузки:\")\n",
    "display(data.head())\n",
    "display(data.info())"
   ]
  },
  {
   "cell_type": "markdown",
   "id": "106e25ed-0671-4358-a69b-d81856930d71",
   "metadata": {},
   "source": [
    "# Шаг3: DataCleaning"
   ]
  },
  {
   "cell_type": "code",
   "execution_count": 41,
   "id": "1c5ffb0d-f18b-41ca-b9a0-a017028770dd",
   "metadata": {
    "scrolled": true
   },
   "outputs": [
    {
     "data": {
      "text/plain": [
       "'Список столбцов перед удалением:'"
      ]
     },
     "metadata": {},
     "output_type": "display_data"
    },
    {
     "data": {
      "text/plain": [
       "Index(['PassengerId', 'Survived', 'Pclass', 'Name', 'Sex', 'Age', 'SibSp',\n",
       "       'Parch', 'Ticket', 'Fare', 'Cabin', 'Embarked'],\n",
       "      dtype='object')"
      ]
     },
     "metadata": {},
     "output_type": "display_data"
    },
    {
     "data": {
      "text/plain": [
       "'Список столбцов перед преобразованием категориальных переменных:'"
      ]
     },
     "metadata": {},
     "output_type": "display_data"
    },
    {
     "data": {
      "text/plain": [
       "Index(['PassengerId', 'Survived', 'Pclass', 'Sex', 'Age', 'SibSp', 'Parch',\n",
       "       'Fare', 'Cabin', 'Embarked'],\n",
       "      dtype='object')"
      ]
     },
     "metadata": {},
     "output_type": "display_data"
    },
    {
     "data": {
      "text/plain": [
       "'Количество пропусков в каждом столбце после обработки:'"
      ]
     },
     "metadata": {},
     "output_type": "display_data"
    },
    {
     "data": {
      "text/plain": [
       "PassengerId    0\n",
       "Survived       0\n",
       "Pclass         0\n",
       "Age            0\n",
       "SibSp          0\n",
       "Parch          0\n",
       "Fare           0\n",
       "Sex_male       0\n",
       "Embarked_Q     0\n",
       "Embarked_S     0\n",
       "dtype: int64"
      ]
     },
     "metadata": {},
     "output_type": "display_data"
    }
   ],
   "source": [
    "data['Age'] = data['Age'].fillna(data['Age'].median())\n",
    "data['Embarked'] = data['Embarked'].fillna(data['Embarked'].mode()[0])\n",
    "data['Cabin'] = data['Cabin'].fillna('Unknown')\n",
    "\n",
    "# Удаление ненужных столбцов\n",
    "display(\"Список столбцов перед удалением:\")\n",
    "display(data.columns)\n",
    "\n",
    "data = data.drop(['Name', 'Ticket'], axis=1)\n",
    "\n",
    "# Проверка наличия необходимых столбцов перед преобразованием\n",
    "display(\"Список столбцов перед преобразованием категориальных переменных:\")\n",
    "display(data.columns)\n",
    "\n",
    "# Преобразовываем категориальные переменные в числовые\n",
    "data = pd.get_dummies(data, columns=['Sex', 'Embarked'], drop_first=True)\n",
    "\n",
    "# Удалим или преобразуем столбец 'Cabin', так как он не числовой и содержит строки\n",
    "data = data.drop('Cabin', axis=1)\n",
    "\n",
    "# Проверяем наличие пропусков после обработки\n",
    "display(\"Количество пропусков в каждом столбце после обработки:\")\n",
    "display(data.isnull().sum())"
   ]
  },
  {
   "cell_type": "markdown",
   "id": "0b9891d8-d6db-4ad0-b181-519136271e19",
   "metadata": {},
   "source": [
    "# Шаг4: EDA. График выживших. Гистограмма возраста пассажиров. График оотношение выживаемости по полу"
   ]
  },
  {
   "cell_type": "code",
   "execution_count": 42,
   "id": "f35a48ec-e961-4d48-8dec-3eb2a2e7ce76",
   "metadata": {},
   "outputs": [
    {
     "data": {
      "image/png": "[encoded data removed]",
      "text/plain": [
       "<Figure size 800x500 with 1 Axes>"
      ]
     },
     "metadata": {},
     "output_type": "display_data"
    }
   ],
   "source": [
    "plt.figure(figsize=(8, 5))\n",
    "sns.countplot(x='Survived', data=data)\n",
    "plt.title('Count of Survivors vs Non-Survivors')\n",
    "plt.xlabel('Survived (0 = No, 1 = Yes)')\n",
    "plt.ylabel('Count')\n",
    "plt.xticks(ticks=[0, 1], labels=['Not Survived', 'Survived'])\n",
    "plt.show()"
   ]
  },
  {
   "cell_type": "code",
   "execution_count": 43,
   "id": "a4c92454-5c61-4e14-9b42-93edc86ba568",
   "metadata": {},
   "outputs": [
    {
     "data": {
      "image/png": "[encoded data removed]",
      "text/plain": [
       "<Figure size 1000x600 with 1 Axes>"
      ]
     },
     "metadata": {},
     "output_type": "display_data"
    }
   ],
   "source": [
    "plt.figure(figsize=(10, 6))\n",
    "sns.histplot(data['Age'], bins=30, kde=True)\n",
    "plt.title('Distribution of Ages')\n",
    "plt.xlabel('Age')\n",
    "plt.ylabel('Frequency')\n",
    "plt.show()"
   ]
  },
  {
   "cell_type": "code",
   "execution_count": 44,
   "id": "fcf5348d-11d1-47b8-9d7b-91637a0cffa8",
   "metadata": {
    "scrolled": true
   },
   "outputs": [
    {
     "data": {
      "image/png": "[encoded data removed]",
      "text/plain": [
       "<Figure size 800x500 with 1 Axes>"
      ]
     },
     "metadata": {},
     "output_type": "display_data"
    }
   ],
   "source": [
    "plt.figure(figsize=(8, 5))\n",
    "sns.countplot(x='Survived', hue='Sex_male', data=data)  # Используем дамми-переменную Sex_male\n",
    "plt.title('Survivorship by Sex')\n",
    "plt.xlabel('Survived')\n",
    "plt.ylabel('Count')\n",
    "plt.xticks(ticks=[0, 1], labels=['Not Survived', 'Survived'])\n",
    "plt.legend(title='Sex', labels=['Female', 'Male'])  # Добавляем легенду\n",
    "plt.show()"
   ]
  },
  {
   "cell_type": "markdown",
   "id": "53b518ab-1cac-41ea-980b-d44a1f4a9a68",
   "metadata": {},
   "source": [
    "## Выводы по графикам \n",
    "\n",
    "1: Количество выживших и невыживших\n",
    "На первом графике показано распределение пассажиров по статусу выживания. Мы видим, что большинство пассажиров не выжили. В то время как количество выживших пассажиров составляет около 38%, количество невыживших значительно выше.\n",
    "\n",
    "2: Распределение возрастов\n",
    "Второй график демонстрирует распределение возрастов пассажиров на Титанике. Мы видим, что пик распределения возрастов находится в возрастной группе около 20-30 лет. \n",
    "\n",
    "3: Выживаемость по полу\n",
    "Третий график представляет собой сравнительный анализ выживаемости среди мужчин и женщин. Мы видим, что женщины выживали реже, чем мужчины. "
   ]
  },
  {
   "cell_type": "markdown",
   "id": "54c38a85-519b-4612-86af-d3e0b3b80119",
   "metadata": {},
   "source": [
    "# Шаг5: Преобразование категориальных признаков в числовые. Обучение модели"
   ]
  },
  {
   "cell_type": "code",
   "execution_count": 45,
   "id": "b9443eb9-734a-47ca-bed2-22952b1b1780",
   "metadata": {},
   "outputs": [],
   "source": [
    "x = data.drop('Survived', axis=1)\n",
    "y = data['Survived']\n",
    "x_train, x_test, y_train, y_test = train_test_split(x, y, test_size=0.2, random_state=42)\n",
    "\n",
    "# Масштабирование данных\n",
    "scaler = StandardScaler()\n",
    "x_train_scaled = scaler.fit_transform(x_train)  # Масштабируем обучающую выборку\n",
    "x_test_scaled = scaler.transform(x_test)"
   ]
  },
  {
   "cell_type": "code",
   "execution_count": 53,
   "id": "988759dd-895a-4cca-a878-9a07386d8bc5",
   "metadata": {},
   "outputs": [
    {
     "data": {
      "text/plain": [
       "'RandomForest - Precision: 0.82, Recall: 0.74, Accuracy: 0.83'"
      ]
     },
     "metadata": {},
     "output_type": "display_data"
    }
   ],
   "source": [
    "rf_model = RandomForestClassifier(n_estimators=100, random_state=42)\n",
    "rf_model.fit(x_train_scaled, y_train)\n",
    "y_pred_rf = rf_model.predict(x_test_scaled)\n",
    "\n",
    "# Вычисляем метрики\n",
    "precision_rf = precision_score(y_test, y_pred_rf)\n",
    "recall_rf = recall_score(y_test, y_pred_rf)\n",
    "accuracy_rf = accuracy_score(y_test, y_pred_rf)\n",
    "display(f'RandomForest - Precision: {precision_rf:.2f}, Recall: {recall_rf:.2f}, Accuracy: {accuracy_rf:.2f}')"
   ]
  },
  {
   "cell_type": "markdown",
   "id": "a1760027-bdce-4be1-8c81-2cded5611ebc",
   "metadata": {},
   "source": [
    "Обучение DecisionTreeClassifier"
   ]
  },
  {
   "cell_type": "code",
   "execution_count": 54,
   "id": "212e84e7-49bd-48f2-b06f-8a5f05d344b4",
   "metadata": {},
   "outputs": [
    {
     "data": {
      "text/plain": [
       "'DecisionTree - Precision: 0.66, Recall: 0.68, F1 Score: 0.67, Accuracy: 0.72'"
      ]
     },
     "metadata": {},
     "output_type": "display_data"
    }
   ],
   "source": [
    "dt_model = DecisionTreeClassifier(random_state=42)\n",
    "dt_model.fit(x_train_scaled, y_train)\n",
    "y_pred_dt = dt_model.predict(x_test_scaled)\n",
    "\n",
    "# Вычисляем метрики\n",
    "precision_dt = precision_score(y_test, y_pred_dt)\n",
    "recall_dt = recall_score(y_test, y_pred_dt)\n",
    "f1_dt = f1_score(y_test, y_pred_dt)\n",
    "accuracy_dt = accuracy_score(y_test, y_pred_dt)\n",
    "display(f'DecisionTree - Precision: {precision_dt:.2f}, Recall: {recall_dt:.2f}, F1 Score: {f1_dt:.2f}, Accuracy: {accuracy_dt:.2f}')"
   ]
  },
  {
   "cell_type": "markdown",
   "id": "69209f49-dca7-4755-b7d3-af0fbafe2930",
   "metadata": {},
   "source": [
    "Обучение LogisticRegression"
   ]
  },
  {
   "cell_type": "code",
   "execution_count": 58,
   "id": "6496e1d2-85a8-4410-820a-ee3dc5b3d3bf",
   "metadata": {},
   "outputs": [
    {
     "data": {
      "text/plain": [
       "'LogisticRegression - Precision (Dead): 0.82, Recall (Dead): 0.85'"
      ]
     },
     "metadata": {},
     "output_type": "display_data"
    }
   ],
   "source": [
    "log_model = LogisticRegression(max_iter=1000, solver='liblinear')\n",
    "log_model.fit(x_train_scaled, y_train)\n",
    "y_pred_log = log_model.predict(x_test_scaled)\n",
    "\n",
    "# Вычисляем метрики\n",
    "precision_log = precision_score(y_test, y_pred_log, pos_label=0)  # Для погибших\n",
    "recall_log = recall_score(y_test, y_pred_log, pos_label=0)  # Для погибших\n",
    "display(f'LogisticRegression - Precision (Dead): {precision_log:.2f}, Recall (Dead): {recall_log:.2f}')"
   ]
  },
  {
   "cell_type": "code",
   "execution_count": 59,
   "id": "f1f70516-6fe5-4bd0-91cb-0295385eba1b",
   "metadata": {},
   "outputs": [
    {
     "data": {
      "text/plain": [
       "'Root Mean Squared Error for Age: 11.59'"
      ]
     },
     "metadata": {},
     "output_type": "display_data"
    }
   ],
   "source": [
    "rmse_value = np.sqrt(mean_squared_error(y_test_reg, y_pred_reg))\n",
    "display(f'Root Mean Squared Error for Age: {rmse_value:.2f}') "
   ]
  },
  {
   "cell_type": "code",
   "execution_count": 60,
   "id": "98737048-45b0-48b4-93fe-13a60fcaaebe",
   "metadata": {},
   "outputs": [],
   "source": [
    "results = pd.DataFrame({\n",
    "    'Model': ['DecisionTreeClassifier', 'RandomFormyestClassifier', 'LogisticRegression', 'LinearRegression'],\n",
    "    'Precision (Survived)': [precision_dt, precision_rf, None, None],\n",
    "    'Recall (Survived)': [recall_dt, recall_rf, None, None],\n",
    "    'F1 Score (Survived)': [f1_dt, None, None, None],\n",
    "    'Accuracy': [accuracy_dt, accuracy_rf, None, None],\n",
    "    'Precision (Dead)': [None, None, precision_log, None],\n",
    "    'Recall (Dead)': [None, None, recall_log, None],\n",
    "    'RMSE (Age)': [None, None, None, rmse_value]\n",
    "})\n",
    "\n",
    "# Объединение с \"вашими результатами\"\n",
    "my_results = pd.DataFrame({\n",
    "    'Model': ['Your Results'],\n",
    "    'Precision (Survived)': [0.79],\n",
    "    'Recall (Survived)': [0.72],\n",
    "    'F1 Score (Survived)': [0.75],\n",
    "    'Accuracy': [0.80],\n",
    "    'Precision (Dead)': [0.81],\n",
    "    'Recall (Dead)': [0.88],\n",
    "    'RMSE (Age)': [10.7],\n",
    "})"
   ]
  },
  {
   "cell_type": "code",
   "execution_count": 61,
   "id": "3fbb6f46-c6e9-4724-bd4f-7d4de7676424",
   "metadata": {},
   "outputs": [
    {
     "data": {
      "text/html": [
       "<div>\n",
       "<style scoped>\n",
       "    .dataframe tbody tr th:only-of-type {\n",
       "        vertical-align: middle;\n",
       "    }\n",
       "\n",
       "    .dataframe tbody tr th {\n",
       "        vertical-align: top;\n",
       "    }\n",
       "\n",
       "    .dataframe thead th {\n",
       "        text-align: right;\n",
       "    }\n",
       "</style>\n",
       "<table border=\"1\" class=\"dataframe\">\n",
       "  <thead>\n",
       "    <tr style=\"text-align: right;\">\n",
       "      <th></th>\n",
       "      <th>Model</th>\n",
       "      <th>Precision (Survived)</th>\n",
       "      <th>Recall (Survived)</th>\n",
       "      <th>F1 Score (Survived)</th>\n",
       "      <th>Accuracy</th>\n",
       "      <th>Precision (Dead)</th>\n",
       "      <th>Recall (Dead)</th>\n",
       "      <th>RMSE (Age)</th>\n",
       "    </tr>\n",
       "  </thead>\n",
       "  <tbody>\n",
       "    <tr>\n",
       "      <th>0</th>\n",
       "      <td>DecisionTreeClassifier</td>\n",
       "      <td>0.657895</td>\n",
       "      <td>0.675676</td>\n",
       "      <td>0.666667</td>\n",
       "      <td>0.720670</td>\n",
       "      <td>NaN</td>\n",
       "      <td>NaN</td>\n",
       "      <td>NaN</td>\n",
       "    </tr>\n",
       "    <tr>\n",
       "      <th>1</th>\n",
       "      <td>RandomFormyestClassifier</td>\n",
       "      <td>0.820896</td>\n",
       "      <td>0.743243</td>\n",
       "      <td>NaN</td>\n",
       "      <td>0.826816</td>\n",
       "      <td>NaN</td>\n",
       "      <td>NaN</td>\n",
       "      <td>NaN</td>\n",
       "    </tr>\n",
       "    <tr>\n",
       "      <th>2</th>\n",
       "      <td>LogisticRegression</td>\n",
       "      <td>NaN</td>\n",
       "      <td>NaN</td>\n",
       "      <td>NaN</td>\n",
       "      <td>NaN</td>\n",
       "      <td>0.824074</td>\n",
       "      <td>0.847619</td>\n",
       "      <td>NaN</td>\n",
       "    </tr>\n",
       "    <tr>\n",
       "      <th>3</th>\n",
       "      <td>LinearRegression</td>\n",
       "      <td>NaN</td>\n",
       "      <td>NaN</td>\n",
       "      <td>NaN</td>\n",
       "      <td>NaN</td>\n",
       "      <td>NaN</td>\n",
       "      <td>NaN</td>\n",
       "      <td>11.587327</td>\n",
       "    </tr>\n",
       "    <tr>\n",
       "      <th>4</th>\n",
       "      <td>Your Results</td>\n",
       "      <td>0.790000</td>\n",
       "      <td>0.720000</td>\n",
       "      <td>0.750000</td>\n",
       "      <td>0.800000</td>\n",
       "      <td>0.810000</td>\n",
       "      <td>0.880000</td>\n",
       "      <td>10.700000</td>\n",
       "    </tr>\n",
       "  </tbody>\n",
       "</table>\n",
       "</div>"
      ],
      "text/plain": [
       "                      Model  Precision (Survived)  Recall (Survived)  \\\n",
       "0    DecisionTreeClassifier              0.657895           0.675676   \n",
       "1  RandomFormyestClassifier              0.820896           0.743243   \n",
       "2        LogisticRegression                   NaN                NaN   \n",
       "3          LinearRegression                   NaN                NaN   \n",
       "4              Your Results              0.790000           0.720000   \n",
       "\n",
       "   F1 Score (Survived)  Accuracy  Precision (Dead)  Recall (Dead)  RMSE (Age)  \n",
       "0             0.666667  0.720670               NaN            NaN         NaN  \n",
       "1                  NaN  0.826816               NaN            NaN         NaN  \n",
       "2                  NaN       NaN          0.824074       0.847619         NaN  \n",
       "3                  NaN       NaN               NaN            NaN   11.587327  \n",
       "4             0.750000  0.800000          0.810000       0.880000   10.700000  "
      ]
     },
     "metadata": {},
     "output_type": "display_data"
    }
   ],
   "source": [
    "results = pd.concat([results, my_results], ignore_index=True)\n",
    "display(results)"
   ]
  },
  {
   "cell_type": "markdown",
   "id": "79748849-4cb0-448e-8e8c-45398d4ac57c",
   "metadata": {},
   "source": [
    "# ВЫВОД"
   ]
  },
  {
   "cell_type": "markdown",
   "id": "0db0738c-acef-4780-8e00-7728a4fe63ee",
   "metadata": {},
   "source": [
    "\n"
   ]
  },
  {
   "cell_type": "code",
   "execution_count": null,
   "id": "78192dc3-2b49-4c06-9e89-f93b7e104503",
   "metadata": {},
   "outputs": [],
   "source": []
  },
  {
   "cell_type": "code",
   "execution_count": null,
   "id": "a682eddd-69f1-4879-a2b0-555242ec5a7a",
   "metadata": {},
   "outputs": [],
   "source": []
  },
  {
   "cell_type": "code",
   "execution_count": null,
   "id": "a150fa63-c4dd-429c-8e3e-eff0b0199e21",
   "metadata": {},
   "outputs": [],
   "source": []
  },
  {
   "cell_type": "code",
   "execution_count": null,
   "id": "37d20bf2-9cee-404c-9d5c-26d1641113d4",
   "metadata": {},
   "outputs": [],
   "source": []
  },
  {
   "cell_type": "code",
   "execution_count": null,
   "id": "85c6509e-eb00-48ae-a5ef-ff0ab8337315",
   "metadata": {},
   "outputs": [],
   "source": []
  },
  {
   "cell_type": "code",
   "execution_count": null,
   "id": "f50acbaa-77ba-4fa3-b99c-8c1d8a0a4847",
   "metadata": {},
   "outputs": [],
   "source": []
  },
  {
   "cell_type": "code",
   "execution_count": null,
   "id": "ab19524a-c795-4671-888e-8dbbf7fb3fb8",
   "metadata": {},
   "outputs": [],
   "source": []
  },
  {
   "cell_type": "code",
   "execution_count": null,
   "id": "ed3fcc62-eaa2-4285-b99a-e83c6ad484bc",
   "metadata": {},
   "outputs": [],
   "source": []
  },
  {
   "cell_type": "code",
   "execution_count": null,
   "id": "188d790b-9086-4ed5-acb0-269d326077fd",
   "metadata": {},
   "outputs": [],
   "source": []
  },
  {
   "cell_type": "code",
   "execution_count": null,
   "id": "7b907872-668f-49b1-9050-00af7d19ffaa",
   "metadata": {},
   "outputs": [],
   "source": []
  },
  {
   "cell_type": "code",
   "execution_count": null,
   "id": "e275e40e-4a47-4104-8fc0-9db5c44c5e2a",
   "metadata": {},
   "outputs": [],
   "source": []
  },
  {
   "cell_type": "code",
   "execution_count": null,
   "id": "fb72187e-da00-47ff-a457-42973f3b6db7",
   "metadata": {},
   "outputs": [],
   "source": []
  },
  {
   "cell_type": "code",
   "execution_count": null,
   "id": "21357157-11e6-4812-8f95-3fa4fa164dd6",
   "metadata": {},
   "outputs": [],
   "source": []
  },
  {
   "cell_type": "code",
   "execution_count": null,
   "id": "979d6624-3853-4e80-9484-788b2c603f18",
   "metadata": {},
   "outputs": [],
   "source": []
  },
  {
   "cell_type": "code",
   "execution_count": null,
   "id": "0f1881b5-fe3f-49cd-ad3c-1d106c6ffe3e",
   "metadata": {},
   "outputs": [],
   "source": []
  },
  {
   "cell_type": "code",
   "execution_count": null,
   "id": "6016ad61-31f0-4731-aff0-00e1ad1f9957",
   "metadata": {},
   "outputs": [],
   "source": []
  },
  {
   "cell_type": "code",
   "execution_count": null,
   "id": "87de2bd7-68f1-4031-bb1c-ce0aefffd8a6",
   "metadata": {},
   "outputs": [],
   "source": []
  },
  {
   "cell_type": "code",
   "execution_count": null,
   "id": "aaca365e-b020-45c4-95ff-b3fda81f76c1",
   "metadata": {},
   "outputs": [],
   "source": []
  },
  {
   "cell_type": "code",
   "execution_count": null,
   "id": "d1518ef6-ae01-43d6-b799-f9f5095b35c4",
   "metadata": {},
   "outputs": [],
   "source": []
  },
  {
   "cell_type": "code",
   "execution_count": null,
   "id": "a3f0c1e7-a1c1-4a1a-8b08-be3f52d0b8b7",
   "metadata": {},
   "outputs": [],
   "source": []
  },
  {
   "cell_type": "code",
   "execution_count": null,
   "id": "f48309cf-ab3c-46c4-80af-518ea93c7252",
   "metadata": {},
   "outputs": [],
   "source": []
  },
  {
   "cell_type": "code",
   "execution_count": null,
   "id": "c29d3051-d50f-4ac9-9194-20711d13b567",
   "metadata": {},
   "outputs": [],
   "source": []
  }
 ],
 "metadata": {
  "kernelspec": {
   "display_name": "Python 3 (ipykernel)",
   "language": "python",
   "name": "python3"
  },
  "language_info": {
   "codemirror_mode": {
    "name": "ipython",
    "version": 3
   },
   "file_extension": ".py",
   "mimetype": "text/x-python",
   "name": "python",
   "nbconvert_exporter": "python",
   "pygments_lexer": "ipython3",
   "version": "3.12.1"
  }
 },
 "nbformat": 4,
 "nbformat_minor": 5
}
