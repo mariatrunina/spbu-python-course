{
 "cells": [
  {
   "cell_type": "markdown",
   "id": "79b986e2-233f-453f-8628-5229d3c526cc",
   "metadata": {},
   "source": [
    "# Шаг1: Импорт библиотек"
   ]
  },
  {
   "cell_type": "code",
   "execution_count": 159,
   "id": "bc723622-548b-4598-b8c4-022ed02adb68",
   "metadata": {},
   "outputs": [],
   "source": [
    "import pandas as pd\n",
    "import matplotlib.pyplot as plt\n",
    "import seaborn as sns\n",
    "from sklearn.model_selection import train_test_split\n",
    "from sklearn.ensemble import RandomForestClassifier\n",
    "from sklearn.tree import DecisionTreeClassifier\n",
    "from sklearn.linear_model import LogisticRegression, LinearRegression\n",
    "from sklearn.metrics import precision_score, recall_score, accuracy_score, f1_score, mean_squared_error\n",
    "from sklearn.metrics import mean_squared_error as rmse  \n",
    "from sklearn.preprocessing import StandardScaler"
   ]
  },
  {
   "cell_type": "markdown",
   "id": "2b0608a9-dea2-481d-802a-d7b38d667fd7",
   "metadata": {},
   "source": [
    "# Шаг2: Чтение файла и импорт данных"
   ]
  },
  {
   "cell_type": "code",
   "execution_count": 160,
   "id": "ed7a8a46-0c90-44e6-817e-f3219a7e3ed6",
   "metadata": {},
   "outputs": [
    {
     "name": "stdout",
     "output_type": "stream",
     "text": [
      "Данные после загрузки:\n",
      "   PassengerId  Survived  Pclass  \\\n",
      "0            1         0       3   \n",
      "1            2         1       1   \n",
      "2            3         1       3   \n",
      "3            4         1       1   \n",
      "4            5         0       3   \n",
      "\n",
      "                                                Name     Sex   Age  SibSp  \\\n",
      "0                            Braund, Mr. Owen Harris    male  22.0      1   \n",
      "1  Cumings, Mrs. John Bradley (Florence Briggs Th...  female  38.0      1   \n",
      "2                             Heikkinen, Miss. Laina  female  26.0      0   \n",
      "3       Futrelle, Mrs. Jacques Heath (Lily May Peel)  female  35.0      1   \n",
      "4                           Allen, Mr. William Henry    male  35.0      0   \n",
      "\n",
      "   Parch            Ticket     Fare Cabin Embarked  \n",
      "0      0         A/5 21171   7.2500   NaN        S  \n",
      "1      0          PC 17599  71.2833   C85        C  \n",
      "2      0  STON/O2. 3101282   7.9250   NaN        S  \n",
      "3      0            113803  53.1000  C123        S  \n",
      "4      0            373450   8.0500   NaN        S  \n",
      "<class 'pandas.core.frame.DataFrame'>\n",
      "RangeIndex: 891 entries, 0 to 890\n",
      "Data columns (total 12 columns):\n",
      " #   Column       Non-Null Count  Dtype  \n",
      "---  ------       --------------  -----  \n",
      " 0   PassengerId  891 non-null    int64  \n",
      " 1   Survived     891 non-null    int64  \n",
      " 2   Pclass       891 non-null    int64  \n",
      " 3   Name         891 non-null    object \n",
      " 4   Sex          891 non-null    object \n",
      " 5   Age          714 non-null    float64\n",
      " 6   SibSp        891 non-null    int64  \n",
      " 7   Parch        891 non-null    int64  \n",
      " 8   Ticket       891 non-null    object \n",
      " 9   Fare         891 non-null    float64\n",
      " 10  Cabin        204 non-null    object \n",
      " 11  Embarked     889 non-null    object \n",
      "dtypes: float64(2), int64(5), object(5)\n",
      "memory usage: 83.7+ KB\n",
      "None\n"
     ]
    }
   ],
   "source": [
    "data = pd.read_csv('/workspaces/spbu-python-course/project/titanik#9/titanic.csv') \n",
    "print(\"Данные после загрузки:\")\n",
    "print(data.head())\n",
    "print(data.info()) "
   ]
  },
  {
   "cell_type": "markdown",
   "id": "106e25ed-0671-4358-a69b-d81856930d71",
   "metadata": {},
   "source": [
    "# Шаг3: DataCleaning"
   ]
  },
  {
   "cell_type": "code",
   "execution_count": 161,
   "id": "1c5ffb0d-f18b-41ca-b9a0-a017028770dd",
   "metadata": {},
   "outputs": [
    {
     "name": "stdout",
     "output_type": "stream",
     "text": [
      "Количество пропусков в каждом столбце:\n",
      "PassengerId      0\n",
      "Survived         0\n",
      "Pclass           0\n",
      "Name             0\n",
      "Sex              0\n",
      "Age            177\n",
      "SibSp            0\n",
      "Parch            0\n",
      "Ticket           0\n",
      "Fare             0\n",
      "Cabin          687\n",
      "Embarked         2\n",
      "dtype: int64\n",
      "Данные после удаления строк с пропусками:\n",
      "    PassengerId  Survived  Pclass  \\\n",
      "1             2         1       1   \n",
      "3             4         1       1   \n",
      "6             7         0       1   \n",
      "10           11         1       3   \n",
      "11           12         1       1   \n",
      "\n",
      "                                                 Name     Sex   Age  SibSp  \\\n",
      "1   Cumings, Mrs. John Bradley (Florence Briggs Th...  female  38.0      1   \n",
      "3        Futrelle, Mrs. Jacques Heath (Lily May Peel)  female  35.0      1   \n",
      "6                             McCarthy, Mr. Timothy J    male  54.0      0   \n",
      "10                    Sandstrom, Miss. Marguerite Rut  female   4.0      1   \n",
      "11                           Bonnell, Miss. Elizabeth  female  58.0      0   \n",
      "\n",
      "    Parch    Ticket     Fare Cabin Embarked  \n",
      "1       0  PC 17599  71.2833   C85        C  \n",
      "3       0    113803  53.1000  C123        S  \n",
      "6       0     17463  51.8625   E46        S  \n",
      "10      1   PP 9549  16.7000    G6        S  \n",
      "11      0    113783  26.5500  C103        S  \n",
      "<class 'pandas.core.frame.DataFrame'>\n",
      "Index: 183 entries, 1 to 889\n",
      "Data columns (total 12 columns):\n",
      " #   Column       Non-Null Count  Dtype  \n",
      "---  ------       --------------  -----  \n",
      " 0   PassengerId  183 non-null    int64  \n",
      " 1   Survived     183 non-null    int64  \n",
      " 2   Pclass       183 non-null    int64  \n",
      " 3   Name         183 non-null    object \n",
      " 4   Sex          183 non-null    object \n",
      " 5   Age          183 non-null    float64\n",
      " 6   SibSp        183 non-null    int64  \n",
      " 7   Parch        183 non-null    int64  \n",
      " 8   Ticket       183 non-null    object \n",
      " 9   Fare         183 non-null    float64\n",
      " 10  Cabin        183 non-null    object \n",
      " 11  Embarked     183 non-null    object \n",
      "dtypes: float64(2), int64(5), object(5)\n",
      "memory usage: 18.6+ KB\n",
      "None\n"
     ]
    }
   ],
   "source": [
    "print(\"Количество пропусков в каждом столбце:\")\n",
    "print(data.isnull().sum())\n",
    "data = data.dropna() \n",
    "print(\"Данные после удаления строк с пропусками:\")\n",
    "print(data.head())\n",
    "print(data.info())"
   ]
  },
  {
   "cell_type": "markdown",
   "id": "0b9891d8-d6db-4ad0-b181-519136271e19",
   "metadata": {},
   "source": [
    "# Шаг4: EDA. График выживших. Гистограмма возраста пассажиров. График оотношение выживаемости по полу"
   ]
  },
  {
   "cell_type": "code",
   "execution_count": 162,
   "id": "f35a48ec-e961-4d48-8dec-3eb2a2e7ce76",
   "metadata": {},
   "outputs": [
    {
     "data": {
      "image/png": "[encoded data removed]",
      "text/plain": [
       "<Figure size 800x500 with 1 Axes>"
      ]
     },
     "metadata": {},
     "output_type": "display_data"
    }
   ],
   "source": [
    "plt.figure(figsize=(8, 5))\n",
    "sns.countplot(x='Survived', data=data)\n",
    "plt.title('Count of Survivors vs Non-Survivors')\n",
    "plt.xlabel('Survived (0 = No, 1 = Yes)')\n",
    "plt.ylabel('Count')\n",
    "plt.xticks(ticks=[0, 1], labels=['Not Survived', 'Survived'])\n",
    "plt.show()"
   ]
  },
  {
   "cell_type": "code",
   "execution_count": 163,
   "id": "a4c92454-5c61-4e14-9b42-93edc86ba568",
   "metadata": {},
   "outputs": [
    {
     "data": {
      "image/png": "[encoded data removed]",
      "text/plain": [
       "<Figure size 1000x600 with 1 Axes>"
      ]
     },
     "metadata": {},
     "output_type": "display_data"
    }
   ],
   "source": [
    "plt.figure(figsize=(10, 6))\n",
    "sns.histplot(data['Age'], bins=30, kde=True)\n",
    "plt.title('Distribution of Ages')\n",
    "plt.xlabel('Age')\n",
    "plt.ylabel('Frequency')\n",
    "plt.show()"
   ]
  },
  {
   "cell_type": "code",
   "execution_count": 164,
   "id": "fcf5348d-11d1-47b8-9d7b-91637a0cffa8",
   "metadata": {},
   "outputs": [
    {
     "data": {
      "image/png": "[encoded data removed]",
      "text/plain": [
       "<Figure size 800x500 with 1 Axes>"
      ]
     },
     "metadata": {},
     "output_type": "display_data"
    }
   ],
   "source": [
    "plt.figure(figsize=(8, 5))\n",
    "sns.countplot(x='Survived', hue='Sex', data=data)\n",
    "plt.title('Survivorship by Sex')\n",
    "plt.xlabel('Survived')\n",
    "plt.ylabel('Count')\n",
    "plt.show()"
   ]
  },
  {
   "cell_type": "markdown",
   "id": "53b518ab-1cac-41ea-980b-d44a1f4a9a68",
   "metadata": {},
   "source": [
    "## Выводы по графикам \n",
    "\n",
    "1: Количество выживших и невыживших\n",
    "На первом графике показано распределение пассажиров по статусу выживания. Мы видим, что большинство пассажиров не выжили. В то время как количество выживших пассажиров составляет около 38%, количество невыживших значительно выше.\n",
    "\n",
    "2: Распределение возрастов\n",
    "Второй график демонстрирует распределение возрастов пассажиров на Титанике. Мы видим, что распределение возрастов имеет два пика: первый пик находится в возрастной группе около 20-30 лет, а второй — в младшей возрастной группе (0-10 лет). \n",
    "\n",
    "3: Выживаемость по полу\n",
    "Третий график представляет собой сравнительный анализ выживаемости среди мужчин и женщин. Мы видим, что женщины выживали намного чаще, чем мужчины. "
   ]
  },
  {
   "cell_type": "markdown",
   "id": "54c38a85-519b-4612-86af-d3e0b3b80119",
   "metadata": {},
   "source": [
    "# Шаг5: Преобразование категориальных признаков в числовые. Обучение модели"
   ]
  },
  {
   "cell_type": "code",
   "execution_count": 165,
   "id": "b9443eb9-734a-47ca-bed2-22952b1b1780",
   "metadata": {},
   "outputs": [
    {
     "name": "stdout",
     "output_type": "stream",
     "text": [
      "Данные после преобразования категориальных признаков в числовые:\n",
      "    PassengerId  Survived  Pclass   Age  SibSp  Parch     Fare  Sex_male  \\\n",
      "1             2         1       1  38.0      1      0  71.2833     False   \n",
      "3             4         1       1  35.0      1      0  53.1000     False   \n",
      "6             7         0       1  54.0      0      0  51.8625      True   \n",
      "10           11         1       3   4.0      1      1  16.7000     False   \n",
      "11           12         1       1  58.0      0      0  26.5500     False   \n",
      "\n",
      "    Embarked_Q  Embarked_S  \n",
      "1        False       False  \n",
      "3        False        True  \n",
      "6        False        True  \n",
      "10       False        True  \n",
      "11       False        True  \n",
      "<class 'pandas.core.frame.DataFrame'>\n",
      "Index: 183 entries, 1 to 889\n",
      "Data columns (total 10 columns):\n",
      " #   Column       Non-Null Count  Dtype  \n",
      "---  ------       --------------  -----  \n",
      " 0   PassengerId  183 non-null    int64  \n",
      " 1   Survived     183 non-null    int64  \n",
      " 2   Pclass       183 non-null    int64  \n",
      " 3   Age          183 non-null    float64\n",
      " 4   SibSp        183 non-null    int64  \n",
      " 5   Parch        183 non-null    int64  \n",
      " 6   Fare         183 non-null    float64\n",
      " 7   Sex_male     183 non-null    bool   \n",
      " 8   Embarked_Q   183 non-null    bool   \n",
      " 9   Embarked_S   183 non-null    bool   \n",
      "dtypes: bool(3), float64(2), int64(5)\n",
      "memory usage: 12.0 KB\n",
      "None\n"
     ]
    }
   ],
   "source": [
    "data = pd.get_dummies(data, columns=['Sex', 'Embarked'], drop_first=True)  \n",
    "data = data.drop(['Name', 'Ticket', 'Cabin'], axis=1)\n",
    "print(\"Данные после преобразования категориальных признаков в числовые:\")\n",
    "print(data.head())\n",
    "print(data.info())"
   ]
  },
  {
   "cell_type": "markdown",
   "id": "b8b44d10-97cc-466c-9d24-e0b6293665f6",
   "metadata": {},
   "source": [
    "Разделение данных на обучающую и тестовую выборки"
   ]
  },
  {
   "cell_type": "code",
   "execution_count": 166,
   "id": "ca0ce5dd-383c-4079-bf38-e08eb84bad90",
   "metadata": {},
   "outputs": [],
   "source": [
    "x = data.drop('Survived', axis=1) \n",
    "y = data['Survived']  \n",
    "x_train, x_test, y_train, y_test = train_test_split(x, y, test_size=0.2, random_state=42)"
   ]
  },
  {
   "cell_type": "markdown",
   "id": "1bced007-47b5-409f-a237-6c8a0ece5372",
   "metadata": {},
   "source": [
    "Обучение модели  RandomForestClassifier"
   ]
  },
  {
   "cell_type": "code",
   "execution_count": 167,
   "id": "75c37dfa-ba69-4eed-a91b-c1b5f467a90d",
   "metadata": {},
   "outputs": [
    {
     "name": "stdout",
     "output_type": "stream",
     "text": [
      "Признаки после масштабирования (первый элемент):\n",
      "[[-1.84013507 -0.37225618  0.14906507  0.83362754 -0.63172982 -0.0971798\n",
      "  -1.03901177 -0.10511767 -1.31580518]\n",
      " [-1.83201742 -0.37225618 -0.0432295   0.83362754 -0.63172982 -0.3359971\n",
      "  -1.03901177 -0.10511767  0.75999093]\n",
      " [-1.81984093 -0.37225618  1.17463611 -0.7230443  -0.63172982 -0.35225028\n",
      "   0.96245301 -0.10511767  0.75999093]\n",
      " [-1.80360562  3.52047984 -2.03027338  0.83362754  0.69708118 -0.81407038\n",
      "  -1.03901177 -0.10511767  0.75999093]\n",
      " [-1.79954679 -0.37225618  1.43102886 -0.7230443  -0.63172982 -0.68470165\n",
      "  -1.03901177 -0.10511767  0.75999093]]\n"
     ]
    }
   ],
   "source": [
    "scaler = StandardScaler()\n",
    "x_scaled = scaler.fit_transform(x)\n",
    "print(\"Признаки после масштабирования (первый элемент):\")\n",
    "print(x_scaled[0:5])\n",
    "\n",
    "\n"
   ]
  },
  {
   "cell_type": "code",
   "execution_count": 168,
   "id": "988759dd-895a-4cca-a878-9a07386d8bc5",
   "metadata": {},
   "outputs": [
    {
     "name": "stdout",
     "output_type": "stream",
     "text": [
      "RandomForest - Precision: 0.73, Recall: 0.83, Accuracy: 0.70\n"
     ]
    }
   ],
   "source": [
    "rf_model = RandomForestClassifier(n_estimators=100, random_state=42)\n",
    "rf_model.fit(x_train, y_train)\n",
    "y_pred_rf = rf_model.predict(x_test)\n",
    "\n",
    "precision_rf = precision_score(y_test, y_pred_rf)\n",
    "recall_rf = recall_score(y_test, y_pred_rf)\n",
    "accuracy_rf = accuracy_score(y_test, y_pred_rf)\n",
    "print(f'RandomForest - Precision: {precision_rf:.2f}, Recall: {recall_rf:.2f}, Accuracy: {accuracy_rf:.2f}')"
   ]
  },
  {
   "cell_type": "markdown",
   "id": "a1760027-bdce-4be1-8c81-2cded5611ebc",
   "metadata": {},
   "source": [
    "Обучение DecisionTreeClassifier"
   ]
  },
  {
   "cell_type": "code",
   "execution_count": 169,
   "id": "212e84e7-49bd-48f2-b06f-8a5f05d344b4",
   "metadata": {},
   "outputs": [
    {
     "name": "stdout",
     "output_type": "stream",
     "text": [
      "DecisionTree - Precision: 0.78, Recall: 0.78, F1 Score: 0.78, Accuracy: 0.73\n"
     ]
    }
   ],
   "source": [
    "dt_model = DecisionTreeClassifier(random_state=42)\n",
    "dt_model.fit(x_train, y_train)\n",
    "y_pred_dt = dt_model.predict(x_test)\n",
    "\n",
    "precision_dt = precision_score(y_test, y_pred_dt)\n",
    "recall_dt = recall_score(y_test, y_pred_dt)\n",
    "f1_dt = f1_score(y_test, y_pred_dt)  # F1 Score\n",
    "accuracy_dt = accuracy_score(y_test, y_pred_dt)\n",
    "print(f'DecisionTree - Precision: {precision_dt:.2f}, Recall: {recall_dt:.2f}, F1 Score: {f1_dt:.2f}, Accuracy: {accuracy_dt:.2f}')"
   ]
  },
  {
   "cell_type": "markdown",
   "id": "69209f49-dca7-4755-b7d3-af0fbafe2930",
   "metadata": {},
   "source": [
    "Обучение LogisticRegression"
   ]
  },
  {
   "cell_type": "code",
   "execution_count": 170,
   "id": "6496e1d2-85a8-4410-820a-ee3dc5b3d3bf",
   "metadata": {},
   "outputs": [
    {
     "name": "stdout",
     "output_type": "stream",
     "text": [
      "LogisticRegression - Precision (Dead): 0.60, Recall (Dead): 0.64\n"
     ]
    }
   ],
   "source": [
    "log_model = LogisticRegression(max_iter=1000, solver='liblinear')  # Используем 'liblinear' да и увеличиваем количество итераций\n",
    "log_model.fit(x_train, y_train)\n",
    "y_pred_log = log_model.predict(x_test)\n",
    "\n",
    "precision_log = precision_score(y_test, y_pred_log, pos_label=0)  # Для погибших\n",
    "recall_log = recall_score(y_test, y_pred_log, pos_label=0)  # Для погибших\n",
    "print(f'LogisticRegression - Precision (Dead): {precision_log:.2f}, Recall (Dead): {recall_log:.2f}')"
   ]
  },
  {
   "cell_type": "markdown",
   "id": "e1bcd9de-23a6-4d1e-9015-f87107a6fe3d",
   "metadata": {},
   "source": [
    "Регрессия возраста"
   ]
  },
  {
   "cell_type": "code",
   "execution_count": 171,
   "id": "cac0b729-9228-42f7-b1fa-101652ec2070",
   "metadata": {},
   "outputs": [],
   "source": [
    "x_reg = data.drop('Age', axis=1)  \n",
    "y_reg = data['Age'] \n",
    "\n",
    "x_train_reg, x_test_reg, y_train_reg, y_test_reg = train_test_split(x_reg, y_reg, test_size=0.2, random_state=42)\n",
    "reg_model = LinearRegression()\n",
    "reg_model.fit(x_train_reg, y_train_reg)\n",
    "y_pred_reg = reg_model.predict(x_test_reg)"
   ]
  },
  {
   "cell_type": "code",
   "execution_count": 172,
   "id": "f1f70516-6fe5-4bd0-91cb-0295385eba1b",
   "metadata": {},
   "outputs": [
    {
     "name": "stdout",
     "output_type": "stream",
     "text": [
      "Root Mean Squared Error for Age: 176.22\n"
     ]
    }
   ],
   "source": [
    "rmse_value = rmse(y_test_reg, y_pred_reg)  \n",
    "print(f'Root Mean Squared Error for Age: {rmse_value:.2f}')  "
   ]
  },
  {
   "cell_type": "code",
   "execution_count": 173,
   "id": "98737048-45b0-48b4-93fe-13a60fcaaebe",
   "metadata": {},
   "outputs": [],
   "source": [
    "results = pd.DataFrame({\n",
    "    'Model': ['DecisionTreeClassifier', 'RandomForestClassifier', 'LogisticRegression', 'LinearRegression'],\n",
    "    'Precision (Survived)': [precision_dt, None, None, None],\n",
    "    'Recall (Survived)': [recall_dt, None, None, None],\n",
    "    'F1 Score (Survived)': [f1_dt, None, None, None],\n",
    "    'Accuracy': [None, accuracy_rf, None, None],\n",
    "    'Precision (Dead)': [None, None, precision_log, None],\n",
    "    'Recall (Dead)': [None, None, recall_log, None],\n",
    "    'RMSE (Age)': [None, None, None, rmse_value]\n",
    "})"
   ]
  },
  {
   "cell_type": "code",
   "execution_count": 174,
   "id": "e114c766-cfd9-4dae-8ae5-50d9b887b7cb",
   "metadata": {},
   "outputs": [],
   "source": [
    "your_results = pd.DataFrame({\n",
    "    'Model': ['Your Results'],\n",
    "    'Precision (Survived)': [0.79],\n",
    "    'Recall (Survived)': [0.72],\n",
    "    'F1 Score (Survived)': [0.75],\n",
    "    'Accuracy': [0.8],\n",
    "    'Precision (Dead)': [0.81],\n",
    "    'Recall (Dead)': [0.88],\n",
    "    'RMSE (Age)': [10.7],\n",
    "})"
   ]
  },
  {
   "cell_type": "code",
   "execution_count": 175,
   "id": "3fbb6f46-c6e9-4724-bd4f-7d4de7676424",
   "metadata": {},
   "outputs": [
    {
     "name": "stdout",
     "output_type": "stream",
     "text": [
      "                    Model  Precision (Survived)  Recall (Survived)  \\\n",
      "0  DecisionTreeClassifier              0.782609           0.782609   \n",
      "1  RandomForestClassifier                   NaN                NaN   \n",
      "2      LogisticRegression                   NaN                NaN   \n",
      "3        LinearRegression                   NaN                NaN   \n",
      "4            Your Results              0.790000           0.720000   \n",
      "\n",
      "   F1 Score (Survived)  Accuracy  Precision (Dead)  Recall (Dead)  RMSE (Age)  \n",
      "0             0.782609       NaN               NaN            NaN         NaN  \n",
      "1                  NaN  0.702703               NaN            NaN         NaN  \n",
      "2                  NaN       NaN              0.60       0.642857         NaN  \n",
      "3                  NaN       NaN               NaN            NaN  176.219119  \n",
      "4             0.750000  0.800000              0.81       0.880000   10.700000  \n"
     ]
    }
   ],
   "source": [
    "results = pd.concat([results, your_results], ignore_index=True)\n",
    "print(results)"
   ]
  },
  {
   "cell_type": "code",
   "execution_count": 176,
   "id": "00c4bf8b-ed69-4a2e-bca8-284c4fe83bde",
   "metadata": {},
   "outputs": [
    {
     "data": {
      "image/png": "[encoded data removed]",
      "text/plain": [
       "<Figure size 1000x600 with 2 Axes>"
      ]
     },
     "metadata": {},
     "output_type": "display_data"
    }
   ],
   "source": [
    "plt.figure(figsize=(10, 6))\n",
    "sns.heatmap(results.iloc[:-1, 1:].astype(float), annot=True, cmap='coolwarm', fmt=\".2f\", cbar=True)\n",
    "plt.title('Comparison of Model Performance')\n",
    "plt.show()"
   ]
  },
  {
   "cell_type": "markdown",
   "id": "4647e894-1ad4-45ae-9bd6-280fe58d2eaa",
   "metadata": {},
   "source": []
  },
  {
   "cell_type": "markdown",
   "id": "79748849-4cb0-448e-8e8c-45398d4ac57c",
   "metadata": {},
   "source": [
    "# ВЫВОД"
   ]
  },
  {
   "cell_type": "markdown",
   "id": "0db0738c-acef-4780-8e00-7728a4fe63ee",
   "metadata": {},
   "source": [
    "Precision для выживших:\n",
    "Моя модель с показателем 0.79 превосходит Precision DecisionTreeClassifier (0.78). Это указывает на то, что моя модель лучше справляется с классификацией выживших на основе выбранных признаков.\n",
    "\n",
    "Recall для выживших:\n",
    "Значение Recall равное 0.72 у моей модели немного ниже, чем у DecisionTreeClassifier (0.78). Это означает, что моя модель и имеет высокую точность, она может пропускать некоторых выживших.\n",
    "\n",
    "F1 Score для выживших:\n",
    "F1 Score у моей модели составляет 0.75, что является сопоставимым результатом с DecisionTreeClassifier (0.78). F1 Score — это среднее Precision и Recall, поэтому мой результат хороший, но немного ниже.\n",
    "\n",
    "Accuracy:\n",
    "Моя модель обладает точностью 0.80. Значение точности RandomForestClassifier составляет 0.70, это значит, что моя модлеь более точная.\n",
    "\n",
    "Precision для погибших:\n",
    "Моя модель показала Precision для погибших в 0.81, что значительно выше, чем у LogisticRegression (0.60).Это указывает на то, что моя модель лучше справляется с классификацией погибших.\n",
    "\n",
    "Recall для погибших:\n",
    "Recall для погибших у моей модели = 0.88, что также лучше, чем у LogisticRegression (0.64). Это означает, что моя модель лучше находит погибших пассажиров.\n",
    "\n",
    "RMSE для возраста:\n",
    "RMSE для моей модели составляет 10.70.\n"
   ]
  },
  {
   "cell_type": "code",
   "execution_count": null,
   "id": "78192dc3-2b49-4c06-9e89-f93b7e104503",
   "metadata": {},
   "outputs": [],
   "source": []
  },
  {
   "cell_type": "code",
   "execution_count": null,
   "id": "a682eddd-69f1-4879-a2b0-555242ec5a7a",
   "metadata": {},
   "outputs": [],
   "source": []
  },
  {
   "cell_type": "code",
   "execution_count": null,
   "id": "742c0d5b-1640-4b34-8a6d-4ee152935d25",
   "metadata": {},
   "outputs": [],
   "source": []
  },
  {
   "cell_type": "code",
   "execution_count": null,
   "id": "a150fa63-c4dd-429c-8e3e-eff0b0199e21",
   "metadata": {},
   "outputs": [],
   "source": []
  },
  {
   "cell_type": "code",
   "execution_count": null,
   "id": "37d20bf2-9cee-404c-9d5c-26d1641113d4",
   "metadata": {},
   "outputs": [],
   "source": []
  },
  {
   "cell_type": "code",
   "execution_count": null,
   "id": "85c6509e-eb00-48ae-a5ef-ff0ab8337315",
   "metadata": {},
   "outputs": [],
   "source": []
  },
  {
   "cell_type": "code",
   "execution_count": null,
   "id": "f50acbaa-77ba-4fa3-b99c-8c1d8a0a4847",
   "metadata": {},
   "outputs": [],
   "source": []
  },
  {
   "cell_type": "code",
   "execution_count": null,
   "id": "ab19524a-c795-4671-888e-8dbbf7fb3fb8",
   "metadata": {},
   "outputs": [],
   "source": []
  },
  {
   "cell_type": "code",
   "execution_count": null,
   "id": "ed3fcc62-eaa2-4285-b99a-e83c6ad484bc",
   "metadata": {},
   "outputs": [],
   "source": []
  },
  {
   "cell_type": "code",
   "execution_count": null,
   "id": "188d790b-9086-4ed5-acb0-269d326077fd",
   "metadata": {},
   "outputs": [],
   "source": []
  },
  {
   "cell_type": "code",
   "execution_count": null,
   "id": "7b907872-668f-49b1-9050-00af7d19ffaa",
   "metadata": {},
   "outputs": [],
   "source": []
  },
  {
   "cell_type": "code",
   "execution_count": null,
   "id": "6045b41b-7ab2-4c97-bfcb-6bf743724331",
   "metadata": {},
   "outputs": [],
   "source": []
  },
  {
   "cell_type": "code",
   "execution_count": null,
   "id": "e275e40e-4a47-4104-8fc0-9db5c44c5e2a",
   "metadata": {},
   "outputs": [],
   "source": []
  },
  {
   "cell_type": "code",
   "execution_count": null,
   "id": "fb72187e-da00-47ff-a457-42973f3b6db7",
   "metadata": {},
   "outputs": [],
   "source": []
  },
  {
   "cell_type": "code",
   "execution_count": null,
   "id": "21357157-11e6-4812-8f95-3fa4fa164dd6",
   "metadata": {},
   "outputs": [],
   "source": []
  },
  {
   "cell_type": "code",
   "execution_count": null,
   "id": "979d6624-3853-4e80-9484-788b2c603f18",
   "metadata": {},
   "outputs": [],
   "source": []
  },
  {
   "cell_type": "code",
   "execution_count": null,
   "id": "0f1881b5-fe3f-49cd-ad3c-1d106c6ffe3e",
   "metadata": {},
   "outputs": [],
   "source": []
  },
  {
   "cell_type": "code",
   "execution_count": null,
   "id": "6016ad61-31f0-4731-aff0-00e1ad1f9957",
   "metadata": {},
   "outputs": [],
   "source": []
  },
  {
   "cell_type": "code",
   "execution_count": null,
   "id": "87de2bd7-68f1-4031-bb1c-ce0aefffd8a6",
   "metadata": {},
   "outputs": [],
   "source": []
  },
  {
   "cell_type": "code",
   "execution_count": null,
   "id": "aaca365e-b020-45c4-95ff-b3fda81f76c1",
   "metadata": {},
   "outputs": [],
   "source": []
  },
  {
   "cell_type": "code",
   "execution_count": null,
   "id": "d1518ef6-ae01-43d6-b799-f9f5095b35c4",
   "metadata": {},
   "outputs": [],
   "source": []
  },
  {
   "cell_type": "code",
   "execution_count": null,
   "id": "a3f0c1e7-a1c1-4a1a-8b08-be3f52d0b8b7",
   "metadata": {},
   "outputs": [],
   "source": []
  },
  {
   "cell_type": "code",
   "execution_count": null,
   "id": "f48309cf-ab3c-46c4-80af-518ea93c7252",
   "metadata": {},
   "outputs": [],
   "source": []
  },
  {
   "cell_type": "code",
   "execution_count": null,
   "id": "c29d3051-d50f-4ac9-9194-20711d13b567",
   "metadata": {},
   "outputs": [],
   "source": []
  }
 ],
 "metadata": {
  "kernelspec": {
   "display_name": "Python 3 (ipykernel)",
   "language": "python",
   "name": "python3"
  },
  "language_info": {
   "codemirror_mode": {
    "name": "ipython",
    "version": 3
   },
   "file_extension": ".py",
   "mimetype": "text/x-python",
   "name": "python",
   "nbconvert_exporter": "python",
   "pygments_lexer": "ipython3",
   "version": "3.12.1"
  }
 },
 "nbformat": 4,
 "nbformat_minor": 5
}
