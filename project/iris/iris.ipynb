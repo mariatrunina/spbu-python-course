{
 "cells": [
  {
   "cell_type": "markdown",
   "id": "9b54a58b-f4b1-4767-aba4-9fa611e6f39f",
   "metadata": {},
   "source": [
    "# Шаг0: Импорт библиотек"
   ]
  },
  {
   "cell_type": "code",
   "execution_count": 60,
   "id": "98d17b00-a09a-41c2-aab2-f0e9474fc674",
   "metadata": {},
   "outputs": [],
   "source": [
    "import pandas as pd\n",
    "import numpy as np\n",
    "from sklearn.model_selection import train_test_split\n",
    "import matplotlib.pyplot as plt\n",
    "from sklearn.model_selection import train_test_split\n",
    "from sklearn.svm import SVC\n",
    "from sklearn.preprocessing import StandardScaler, LabelEncoder\n",
    "from sklearn.decomposition import PCA\n",
    "from sklearn.metrics import classification_report, accuracy_score"
   ]
  },
  {
   "cell_type": "markdown",
   "id": "90de1cf7-c71e-4c5c-8ea6-e27b37c38520",
   "metadata": {},
   "source": [
    "# Шаг 1: Загрузка данных"
   ]
  },
  {
   "cell_type": "code",
   "execution_count": 61,
   "id": "4cc59ffa-d543-4902-84ab-1a40441f9fc6",
   "metadata": {},
   "outputs": [],
   "source": [
    "iris_data = pd.read_csv('/workspaces/spbu-python-course/project/iris.csv')"
   ]
  },
  {
   "cell_type": "markdown",
   "id": "379d1c75-1c15-4a28-9a0b-d24616636f1a",
   "metadata": {},
   "source": [
    "# Шаг 2: Представление данных в виде массивов"
   ]
  },
  {
   "cell_type": "markdown",
   "id": "b076f7ba-580f-4339-bd17-54ad47b92814",
   "metadata": {},
   "source": [
    "Признаки в матрице (n, 4)"
   ]
  },
  {
   "cell_type": "code",
   "execution_count": 62,
   "id": "e5d5351a-6c52-440f-8017-71be35b2f19b",
   "metadata": {},
   "outputs": [],
   "source": [
    "features = iris_data.iloc[:, :-1].values"
   ]
  },
  {
   "cell_type": "markdown",
   "id": "91369b4a-59e6-4d69-8ec0-dbb2800a79cb",
   "metadata": {},
   "source": [
    "Названия видов в векторе размера n"
   ]
  },
  {
   "cell_type": "code",
   "execution_count": 63,
   "id": "fb361b41-9d12-487d-845d-efb29c12f93d",
   "metadata": {},
   "outputs": [],
   "source": [
    "labels = iris_data.iloc[:, -1].values "
   ]
  },
  {
   "cell_type": "markdown",
   "id": "3e4ceba8-91fc-4222-b374-549e63aa1a75",
   "metadata": {},
   "source": [
    "# Шаг 3: Вывод размера массивов"
   ]
  },
  {
   "cell_type": "code",
   "execution_count": 64,
   "id": "2195b3e7-8bb0-460c-b21c-b2850411a1fa",
   "metadata": {},
   "outputs": [],
   "source": [
    "features_shape = features.shape  # Размерность матрицы признаков\n",
    "labels_shape = labels.shape  # Размер вектора названий видов"
   ]
  },
  {
   "cell_type": "markdown",
   "id": "f64dad86-b3fe-4cf0-a341-1aaaf218a07e",
   "metadata": {},
   "source": [
    "Определим, сколько места занимают массивы"
   ]
  },
  {
   "cell_type": "code",
   "execution_count": 65,
   "id": "9bd13818-a670-4f2e-be5f-8a47de9092eb",
   "metadata": {},
   "outputs": [],
   "source": [
    "features_size = features.nbytes  # размер матрицы (в байтах)\n",
    "labels_size = labels.nbytes # размер вектора (в байтах)"
   ]
  },
  {
   "cell_type": "markdown",
   "id": "f8b75796-041f-48fe-b241-4d1eb3fcc5cf",
   "metadata": {},
   "source": [
    "# Шаг 4: Вывод результатов "
   ]
  },
  {
   "cell_type": "code",
   "execution_count": 66,
   "id": "18ad80ac-7869-4e2e-84e7-19c5be9ae486",
   "metadata": {},
   "outputs": [
    {
     "name": "stdout",
     "output_type": "stream",
     "text": [
      "Размер матрицы признаков (n, 4): (150, 4)\n",
      "Размер вектора названий видов (n,): (150,)\n",
      "Размер матрицы признаков в байтах: 4800\n",
      "Размер вектора названий видов в байтах: 1200\n"
     ]
    }
   ],
   "source": [
    "print(\"Размер матрицы признаков (n, 4):\", features_shape)\n",
    "print(\"Размер вектора названий видов (n,):\", labels_shape)\n",
    "print(\"Размер матрицы признаков в байтах:\", features_size)\n",
    "print(\"Размер вектора названий видов в байтах:\", labels_size)"
   ]
  },
  {
   "cell_type": "markdown",
   "id": "e71daaed-bf1a-4284-8862-fa5bf3e39e11",
   "metadata": {},
   "source": [
    "# Шаг 5: Нормализация данных на промежуток от 0 до 1"
   ]
  },
  {
   "cell_type": "code",
   "execution_count": 67,
   "id": "e85324c3-2460-4145-992f-f0aa72c82088",
   "metadata": {},
   "outputs": [],
   "source": [
    "features_min = features.min(axis=0)  # Минимальные значения для каждой колонки\n",
    "features_max = features.max(axis=0)  # Максимальные значения для каждой колонки"
   ]
  },
  {
   "cell_type": "markdown",
   "id": "25e744bb-647c-493f-aec8-558146b7cfb9",
   "metadata": {},
   "source": [
    "Нормализуем данные"
   ]
  },
  {
   "cell_type": "code",
   "execution_count": 68,
   "id": "5f19518b-8de2-4d82-a2a5-13c642ae354e",
   "metadata": {},
   "outputs": [],
   "source": [
    "features_normalized = (features - features_min) / (features_max - features_min)"
   ]
  },
  {
   "cell_type": "markdown",
   "id": "60fbdf77-84ef-40f1-ba14-624d29998ba3",
   "metadata": {},
   "source": [
    "Проверка результатов. Размеры после нормализации"
   ]
  },
  {
   "cell_type": "code",
   "execution_count": 78,
   "id": "a301c644-c5fa-40a0-8902-8aa0c55fb524",
   "metadata": {},
   "outputs": [
    {
     "name": "stdout",
     "output_type": "stream",
     "text": [
      "Нормализованные данные:\n",
      "[[0.22222222 0.625      0.06779661 0.04166667]\n",
      " [0.16666667 0.41666667 0.06779661 0.04166667]\n",
      " [0.11111111 0.5        0.05084746 0.04166667]\n",
      " [0.08333333 0.45833333 0.08474576 0.04166667]\n",
      " [0.19444444 0.66666667 0.06779661 0.04166667]\n",
      " [0.30555556 0.79166667 0.11864407 0.125     ]\n",
      " [0.08333333 0.58333333 0.06779661 0.08333333]\n",
      " [0.19444444 0.58333333 0.08474576 0.04166667]\n",
      " [0.02777778 0.375      0.06779661 0.04166667]\n",
      " [0.16666667 0.45833333 0.08474576 0.        ]\n",
      " [0.30555556 0.70833333 0.08474576 0.04166667]\n",
      " [0.13888889 0.58333333 0.10169492 0.04166667]\n",
      " [0.13888889 0.41666667 0.06779661 0.        ]\n",
      " [0.         0.41666667 0.01694915 0.        ]\n",
      " [0.41666667 0.83333333 0.03389831 0.04166667]\n",
      " [0.38888889 1.         0.08474576 0.125     ]\n",
      " [0.30555556 0.79166667 0.05084746 0.125     ]\n",
      " [0.22222222 0.625      0.06779661 0.08333333]\n",
      " [0.38888889 0.75       0.11864407 0.08333333]\n",
      " [0.22222222 0.75       0.08474576 0.08333333]\n",
      " [0.30555556 0.58333333 0.11864407 0.04166667]\n",
      " [0.22222222 0.70833333 0.08474576 0.125     ]\n",
      " [0.08333333 0.66666667 0.         0.04166667]\n",
      " [0.22222222 0.54166667 0.11864407 0.16666667]\n",
      " [0.13888889 0.58333333 0.15254237 0.04166667]\n",
      " [0.19444444 0.41666667 0.10169492 0.04166667]\n",
      " [0.19444444 0.58333333 0.10169492 0.125     ]\n",
      " [0.25       0.625      0.08474576 0.04166667]\n",
      " [0.25       0.58333333 0.06779661 0.04166667]\n",
      " [0.11111111 0.5        0.10169492 0.04166667]\n",
      " [0.13888889 0.45833333 0.10169492 0.04166667]\n",
      " [0.30555556 0.58333333 0.08474576 0.125     ]\n",
      " [0.25       0.875      0.08474576 0.        ]\n",
      " [0.33333333 0.91666667 0.06779661 0.04166667]\n",
      " [0.16666667 0.45833333 0.08474576 0.04166667]\n",
      " [0.19444444 0.5        0.03389831 0.04166667]\n",
      " [0.33333333 0.625      0.05084746 0.04166667]\n",
      " [0.16666667 0.66666667 0.06779661 0.        ]\n",
      " [0.02777778 0.41666667 0.05084746 0.04166667]\n",
      " [0.22222222 0.58333333 0.08474576 0.04166667]\n",
      " [0.19444444 0.625      0.05084746 0.08333333]\n",
      " [0.05555556 0.125      0.05084746 0.08333333]\n",
      " [0.02777778 0.5        0.05084746 0.04166667]\n",
      " [0.19444444 0.625      0.10169492 0.20833333]\n",
      " [0.22222222 0.75       0.15254237 0.125     ]\n",
      " [0.13888889 0.41666667 0.06779661 0.08333333]\n",
      " [0.22222222 0.75       0.10169492 0.04166667]\n",
      " [0.08333333 0.5        0.06779661 0.04166667]\n",
      " [0.27777778 0.70833333 0.08474576 0.04166667]\n",
      " [0.19444444 0.54166667 0.06779661 0.04166667]\n",
      " [0.75       0.5        0.62711864 0.54166667]\n",
      " [0.58333333 0.5        0.59322034 0.58333333]\n",
      " [0.72222222 0.45833333 0.66101695 0.58333333]\n",
      " [0.33333333 0.125      0.50847458 0.5       ]\n",
      " [0.61111111 0.33333333 0.61016949 0.58333333]\n",
      " [0.38888889 0.33333333 0.59322034 0.5       ]\n",
      " [0.55555556 0.54166667 0.62711864 0.625     ]\n",
      " [0.16666667 0.16666667 0.38983051 0.375     ]\n",
      " [0.63888889 0.375      0.61016949 0.5       ]\n",
      " [0.25       0.29166667 0.49152542 0.54166667]\n",
      " [0.19444444 0.         0.42372881 0.375     ]\n",
      " [0.44444444 0.41666667 0.54237288 0.58333333]\n",
      " [0.47222222 0.08333333 0.50847458 0.375     ]\n",
      " [0.5        0.375      0.62711864 0.54166667]\n",
      " [0.36111111 0.375      0.44067797 0.5       ]\n",
      " [0.66666667 0.45833333 0.57627119 0.54166667]\n",
      " [0.36111111 0.41666667 0.59322034 0.58333333]\n",
      " [0.41666667 0.29166667 0.52542373 0.375     ]\n",
      " [0.52777778 0.08333333 0.59322034 0.58333333]\n",
      " [0.36111111 0.20833333 0.49152542 0.41666667]\n",
      " [0.44444444 0.5        0.6440678  0.70833333]\n",
      " [0.5        0.33333333 0.50847458 0.5       ]\n",
      " [0.55555556 0.20833333 0.66101695 0.58333333]\n",
      " [0.5        0.33333333 0.62711864 0.45833333]\n",
      " [0.58333333 0.375      0.55932203 0.5       ]\n",
      " [0.63888889 0.41666667 0.57627119 0.54166667]\n",
      " [0.69444444 0.33333333 0.6440678  0.54166667]\n",
      " [0.66666667 0.41666667 0.6779661  0.66666667]\n",
      " [0.47222222 0.375      0.59322034 0.58333333]\n",
      " [0.38888889 0.25       0.42372881 0.375     ]\n",
      " [0.33333333 0.16666667 0.47457627 0.41666667]\n",
      " [0.33333333 0.16666667 0.45762712 0.375     ]\n",
      " [0.41666667 0.29166667 0.49152542 0.45833333]\n",
      " [0.47222222 0.29166667 0.69491525 0.625     ]\n",
      " [0.30555556 0.41666667 0.59322034 0.58333333]\n",
      " [0.47222222 0.58333333 0.59322034 0.625     ]\n",
      " [0.66666667 0.45833333 0.62711864 0.58333333]\n",
      " [0.55555556 0.125      0.57627119 0.5       ]\n",
      " [0.36111111 0.41666667 0.52542373 0.5       ]\n",
      " [0.33333333 0.20833333 0.50847458 0.5       ]\n",
      " [0.33333333 0.25       0.57627119 0.45833333]\n",
      " [0.5        0.41666667 0.61016949 0.54166667]\n",
      " [0.41666667 0.25       0.50847458 0.45833333]\n",
      " [0.19444444 0.125      0.38983051 0.375     ]\n",
      " [0.36111111 0.29166667 0.54237288 0.5       ]\n",
      " [0.38888889 0.41666667 0.54237288 0.45833333]\n",
      " [0.38888889 0.375      0.54237288 0.5       ]\n",
      " [0.52777778 0.375      0.55932203 0.5       ]\n",
      " [0.22222222 0.20833333 0.33898305 0.41666667]\n",
      " [0.38888889 0.33333333 0.52542373 0.5       ]\n",
      " [0.55555556 0.54166667 0.84745763 1.        ]\n",
      " [0.41666667 0.29166667 0.69491525 0.75      ]\n",
      " [0.77777778 0.41666667 0.83050847 0.83333333]\n",
      " [0.55555556 0.375      0.77966102 0.70833333]\n",
      " [0.61111111 0.41666667 0.81355932 0.875     ]\n",
      " [0.91666667 0.41666667 0.94915254 0.83333333]\n",
      " [0.16666667 0.20833333 0.59322034 0.66666667]\n",
      " [0.83333333 0.375      0.89830508 0.70833333]\n",
      " [0.66666667 0.20833333 0.81355932 0.70833333]\n",
      " [0.80555556 0.66666667 0.86440678 1.        ]\n",
      " [0.61111111 0.5        0.69491525 0.79166667]\n",
      " [0.58333333 0.29166667 0.72881356 0.75      ]\n",
      " [0.69444444 0.41666667 0.76271186 0.83333333]\n",
      " [0.38888889 0.20833333 0.6779661  0.79166667]\n",
      " [0.41666667 0.33333333 0.69491525 0.95833333]\n",
      " [0.58333333 0.5        0.72881356 0.91666667]\n",
      " [0.61111111 0.41666667 0.76271186 0.70833333]\n",
      " [0.94444444 0.75       0.96610169 0.875     ]\n",
      " [0.94444444 0.25       1.         0.91666667]\n",
      " [0.47222222 0.08333333 0.6779661  0.58333333]\n",
      " [0.72222222 0.5        0.79661017 0.91666667]\n",
      " [0.36111111 0.33333333 0.66101695 0.79166667]\n",
      " [0.94444444 0.33333333 0.96610169 0.79166667]\n",
      " [0.55555556 0.29166667 0.66101695 0.70833333]\n",
      " [0.66666667 0.54166667 0.79661017 0.83333333]\n",
      " [0.80555556 0.5        0.84745763 0.70833333]\n",
      " [0.52777778 0.33333333 0.6440678  0.70833333]\n",
      " [0.5        0.41666667 0.66101695 0.70833333]\n",
      " [0.58333333 0.33333333 0.77966102 0.83333333]\n",
      " [0.80555556 0.41666667 0.81355932 0.625     ]\n",
      " [0.86111111 0.33333333 0.86440678 0.75      ]\n",
      " [1.         0.75       0.91525424 0.79166667]\n",
      " [0.58333333 0.33333333 0.77966102 0.875     ]\n",
      " [0.55555556 0.33333333 0.69491525 0.58333333]\n",
      " [0.5        0.25       0.77966102 0.54166667]\n",
      " [0.94444444 0.41666667 0.86440678 0.91666667]\n",
      " [0.55555556 0.58333333 0.77966102 0.95833333]\n",
      " [0.58333333 0.45833333 0.76271186 0.70833333]\n",
      " [0.47222222 0.41666667 0.6440678  0.70833333]\n",
      " [0.72222222 0.45833333 0.74576271 0.83333333]\n",
      " [0.66666667 0.45833333 0.77966102 0.95833333]\n",
      " [0.72222222 0.45833333 0.69491525 0.91666667]\n",
      " [0.41666667 0.29166667 0.69491525 0.75      ]\n",
      " [0.69444444 0.5        0.83050847 0.91666667]\n",
      " [0.66666667 0.54166667 0.79661017 1.        ]\n",
      " [0.66666667 0.41666667 0.71186441 0.91666667]\n",
      " [0.55555556 0.20833333 0.6779661  0.75      ]\n",
      " [0.61111111 0.41666667 0.71186441 0.79166667]\n",
      " [0.52777778 0.58333333 0.74576271 0.91666667]\n",
      " [0.44444444 0.41666667 0.69491525 0.70833333]]\n"
     ]
    }
   ],
   "source": [
    "print(\"Нормализованные данные:\")\n",
    "print(features_normalized)"
   ]
  },
  {
   "cell_type": "code",
   "execution_count": 79,
   "id": "0ea7878b-5bca-4bcb-b4a0-7543420b6026",
   "metadata": {},
   "outputs": [
    {
     "name": "stdout",
     "output_type": "stream",
     "text": [
      "Размер нормализованной матрицы признаков: (150, 4)\n"
     ]
    }
   ],
   "source": [
    "print(\"Размер нормализованной матрицы признаков:\", features_normalized.shape)"
   ]
  },
  {
   "cell_type": "markdown",
   "id": "07e4deca-2a79-462a-be1b-ca98e46db48b",
   "metadata": {},
   "source": [
    "# Шаг 6: Выбор признака для категоризации"
   ]
  },
  {
   "cell_type": "code",
   "execution_count": 70,
   "id": "ae9e19da-71cd-425b-b39b-1b990b97b31c",
   "metadata": {},
   "outputs": [],
   "source": [
    "feature = iris_data['sepal.length'] "
   ]
  },
  {
   "cell_type": "markdown",
   "id": "92781833-bd9a-4221-8f9e-67ac8c780c0f",
   "metadata": {},
   "source": [
    "# Шаг 7: Рассчет квантилей"
   ]
  },
  {
   "cell_type": "code",
   "execution_count": 71,
   "id": "37fd6cac-a99b-454e-b3b3-edccf90bd652",
   "metadata": {},
   "outputs": [],
   "source": [
    "q1 = feature.quantile(0.25)  # 25-й \n",
    "q3 = feature.quantile(0.75)  # 75-й "
   ]
  },
  {
   "cell_type": "markdown",
   "id": "b7324e46-ebcb-449f-a7ff-56d898e5bea1",
   "metadata": {},
   "source": [
    "# Шаг 8: Определение категориальной переменной"
   ]
  },
  {
   "cell_type": "code",
   "execution_count": 72,
   "id": "0fbc2edc-8772-4788-b210-5c982017d8f5",
   "metadata": {},
   "outputs": [],
   "source": [
    "def categorize(value):\n",
    "    if value < q1:\n",
    "        return 'small'\n",
    "    elif q1 <= value <= q3:\n",
    "        return 'medium'\n",
    "    else:\n",
    "        return 'big'"
   ]
  },
  {
   "cell_type": "markdown",
   "id": "5e0ddd7c-f5de-4ace-bcc5-a518679a3b7e",
   "metadata": {},
   "source": [
    "Применение функции к выбранному признаку"
   ]
  },
  {
   "cell_type": "code",
   "execution_count": 73,
   "id": "f4fd71f7-6c26-401b-ae23-0dc5c85e14f4",
   "metadata": {},
   "outputs": [],
   "source": [
    "categories = feature.apply(categorize)"
   ]
  },
  {
   "cell_type": "markdown",
   "id": "efbf5581-cf41-418d-bf15-fd3b81bf46ed",
   "metadata": {},
   "source": [
    "Добавление категориальной переменной в DataFrame"
   ]
  },
  {
   "cell_type": "code",
   "execution_count": 74,
   "id": "55db578d-f79c-4381-a3e2-2d95246684e9",
   "metadata": {},
   "outputs": [],
   "source": [
    "iris_data['sepal.length.category'] = categories"
   ]
  },
  {
   "cell_type": "markdown",
   "id": "289ad0f7-3537-4f24-b18b-c4a249df95aa",
   "metadata": {},
   "source": [
    "Проверка результатов (Опционально, можно вывести количество образцов в каждой категории)"
   ]
  },
  {
   "cell_type": "code",
   "execution_count": 75,
   "id": "be9fe712-300e-4a1a-b831-23139d59d752",
   "metadata": {},
   "outputs": [
    {
     "name": "stdout",
     "output_type": "stream",
     "text": [
      "Первые несколько строк с добавленной категориальной переменной:\n",
      "   sepal.length sepal.length.category\n",
      "0           5.1                medium\n",
      "1           4.9                 small\n",
      "2           4.7                 small\n",
      "3           4.6                 small\n",
      "4           5.0                 small\n",
      "\n",
      "Количество образцов в каждой категории:\n",
      "sepal.length.category\n",
      "medium    83\n",
      "big       35\n",
      "small     32\n",
      "Name: count, dtype: int64\n"
     ]
    }
   ],
   "source": [
    "print(\"Первые несколько строк с добавленной категориальной переменной:\")\n",
    "print(iris_data[['sepal.length', 'sepal.length.category']].head())\n",
    "print(\"\\nКоличество образцов в каждой категории:\")\n",
    "print(iris_data['sepal.length.category'].value_counts())"
   ]
  },
  {
   "cell_type": "markdown",
   "id": "11d40702-f9ce-4a88-85b1-64f3de7a3564",
   "metadata": {},
   "source": [
    "# Шаг 9: Разделение датасета на признаки и целевую переменную"
   ]
  },
  {
   "cell_type": "code",
   "execution_count": 76,
   "id": "f539f951-adf3-4ee6-a0b0-a78b8680b53a",
   "metadata": {},
   "outputs": [],
   "source": [
    "label_encoder = LabelEncoder()\n",
    "labels_encoded = label_encoder.fit_transform(labels)"
   ]
  },
  {
   "cell_type": "code",
   "execution_count": 77,
   "id": "fc7ab565-6f48-488e-a67d-d358a1e2e727",
   "metadata": {},
   "outputs": [
    {
     "name": "stdout",
     "output_type": "stream",
     "text": [
      "Категории по первому признаку: ['small' 'small' 'small' 'small' 'small' 'medium' 'small' 'small' 'small'\n",
      " 'small' 'medium' 'small' 'small' 'small' 'medium' 'medium' 'medium'\n",
      " 'small' 'medium' 'small' 'medium' 'small' 'small' 'small' 'small' 'small'\n",
      " 'small' 'medium' 'medium' 'small' 'small' 'medium' 'medium' 'medium'\n",
      " 'small' 'small' 'medium' 'small' 'small' 'small' 'small' 'small' 'small'\n",
      " 'small' 'small' 'small' 'small' 'small' 'medium' 'small' 'medium'\n",
      " 'medium' 'medium' 'medium' 'medium' 'medium' 'medium' 'small' 'medium'\n",
      " 'medium' 'small' 'medium' 'medium' 'medium' 'medium' 'medium' 'medium'\n",
      " 'medium' 'medium' 'medium' 'medium' 'medium' 'medium' 'medium' 'medium'\n",
      " 'medium' 'medium' 'medium' 'medium' 'medium' 'medium' 'medium' 'medium'\n",
      " 'medium' 'medium' 'medium' 'medium' 'medium' 'medium' 'medium' 'medium'\n",
      " 'medium' 'medium' 'small' 'medium' 'medium' 'medium' 'medium' 'small'\n",
      " 'medium' 'medium' 'medium' 'big' 'medium' 'medium' 'big' 'small' 'big'\n",
      " 'medium' 'big' 'medium' 'medium' 'medium' 'medium' 'medium' 'medium'\n",
      " 'medium' 'big' 'big' 'medium' 'medium' 'medium' 'big' 'medium' 'medium'\n",
      " 'big' 'medium' 'medium' 'medium' 'big' 'big' 'big' 'medium' 'medium'\n",
      " 'medium' 'big' 'medium' 'medium' 'medium' 'medium' 'medium' 'medium'\n",
      " 'medium' 'medium' 'medium' 'medium' 'medium' 'medium' 'medium' 'medium']\n"
     ]
    }
   ],
   "source": [
    "feature_to_categorize = features_normalized[:, 0]  \n",
    "categories = np.where(feature_to_categorize < 0.25, 'small',\n",
    "                      np.where(feature_to_categorize > 0.75, 'big', 'medium'))\n",
    "\n",
    "print(\"Категории по первому признаку:\", categories)"
   ]
  },
  {
   "cell_type": "markdown",
   "id": "65a96dc2-01b2-46ea-ba9d-85e81dcbe273",
   "metadata": {},
   "source": [
    "# Шаг 10: Разделение на выборки (80% для обучающей и 20% для тестовой)\n"
   ]
  },
  {
   "cell_type": "code",
   "execution_count": 80,
   "id": "307cdac8-36e3-4444-9542-85f0e45f7991",
   "metadata": {},
   "outputs": [],
   "source": [
    "x_train, x_test, y_train, y_test = train_test_split(features_normalized, labels_encoded, test_size=0.2, random_state=42)"
   ]
  },
  {
   "cell_type": "markdown",
   "id": "0295e258-6601-4d4d-8409-24fdc4aa7fe1",
   "metadata": {},
   "source": [
    "# Шаг 11: Проверка размерностей полученных выборок"
   ]
  },
  {
   "cell_type": "code",
   "execution_count": 81,
   "id": "29115473-17b4-44df-a685-8c742a4a9c8b",
   "metadata": {},
   "outputs": [
    {
     "name": "stdout",
     "output_type": "stream",
     "text": [
      "Размер обучающей выборки x_train: (120, 4)\n",
      "Размер тестовой выборки x_test: (30, 4)\n",
      "Размер обучающей выборки y_train: (120,)\n",
      "Размер тестовой выборки y_test: (30,)\n"
     ]
    }
   ],
   "source": [
    "print(\"Размер обучающей выборки x_train:\", x_train.shape)\n",
    "print(\"Размер тестовой выборки x_test:\", x_test.shape)\n",
    "print(\"Размер обучающей выборки y_train:\", y_train.shape)\n",
    "print(\"Размер тестовой выборки y_test:\", y_test.shape)"
   ]
  },
  {
   "cell_type": "markdown",
   "id": "cf5a3de9-c112-4eff-bba5-77f41a5a60d0",
   "metadata": {},
   "source": [
    "# Шаг 12: Функция для обучения и оценки модели. Обучение модели. Предсказания. Оценка результатов"
   ]
  },
  {
   "cell_type": "code",
   "execution_count": 82,
   "id": "30f41d60-edfa-418e-a71a-806fec25ca54",
   "metadata": {},
   "outputs": [],
   "source": [
    "def train_and_evaluate(x_train, x_test, y_train, y_test, kernel='linear', C=1.0, normalize=False):\n",
    "    # Нормализация\n",
    "    if normalize:\n",
    "        scaler = StandardScaler()\n",
    "        x_train_scaled = scaler.fit_transform(x_train)\n",
    "        x_test_scaled = scaler.transform(x_test)\n",
    "        x_train_use = x_train_scaled\n",
    "        x_test_use = x_test_scaled\n",
    "    else:\n",
    "        x_train_use = x_train\n",
    "        x_test_use = x_test\n",
    "\n",
    "    # Модель\n",
    "    model = SVC(kernel=kernel, C=C)\n",
    "    model.fit(x_train_use, y_train)\n",
    "\n",
    "    # Предсказания\n",
    "    y_pred = model.predict(x_test_use)\n",
    "\n",
    "    # Оценка результатов\n",
    "    accuracy = accuracy_score(y_test, y_pred)\n",
    "    report = classification_report(y_test, y_pred)\n",
    "    \n",
    "    return accuracy, report, model"
   ]
  },
  {
   "cell_type": "markdown",
   "id": "26a7f7f5-7c31-478c-bc0c-5c22e9da67a6",
   "metadata": {},
   "source": [
    "# Шаг 13: Проведение трех экспериментов"
   ]
  },
  {
   "cell_type": "markdown",
   "id": "8368bd67-adc3-4e95-b648-0d1394f1dfd8",
   "metadata": {},
   "source": [
    "Эксперимент 1: Обычные данные"
   ]
  },
  {
   "cell_type": "code",
   "execution_count": 83,
   "id": "543e1de3-4e81-4fd1-925c-8818cb2cbd28",
   "metadata": {},
   "outputs": [
    {
     "name": "stdout",
     "output_type": "stream",
     "text": [
      "\n",
      "Эксперимент 1: Обычные данные\n",
      "Точность: 1.0\n",
      "              precision    recall  f1-score   support\n",
      "\n",
      "           0       1.00      1.00      1.00        10\n",
      "           1       1.00      1.00      1.00         9\n",
      "           2       1.00      1.00      1.00        11\n",
      "\n",
      "    accuracy                           1.00        30\n",
      "   macro avg       1.00      1.00      1.00        30\n",
      "weighted avg       1.00      1.00      1.00        30\n",
      "\n"
     ]
    }
   ],
   "source": [
    "accuracy1, report1, model1 = train_and_evaluate(x_train, x_test, y_train, y_test, kernel='linear', C=1.0)\n",
    "print(\"\\nЭксперимент 1: Обычные данные\")\n",
    "print(\"Точность:\", accuracy1)\n",
    "print(report1)"
   ]
  },
  {
   "cell_type": "markdown",
   "id": "73b6bc8f-23fe-4cfc-907c-a27bb54fce58",
   "metadata": {},
   "source": [
    "Эксперимент 2: Нормализованные данные"
   ]
  },
  {
   "cell_type": "code",
   "execution_count": 84,
   "id": "f02959f5-09e3-432f-8960-733097edc94a",
   "metadata": {},
   "outputs": [
    {
     "name": "stdout",
     "output_type": "stream",
     "text": [
      "\n",
      "Эксперимент 2: Нормализованные данные\n",
      "Точность: 0.9666666666666667\n",
      "              precision    recall  f1-score   support\n",
      "\n",
      "           0       1.00      1.00      1.00        10\n",
      "           1       1.00      0.89      0.94         9\n",
      "           2       0.92      1.00      0.96        11\n",
      "\n",
      "    accuracy                           0.97        30\n",
      "   macro avg       0.97      0.96      0.97        30\n",
      "weighted avg       0.97      0.97      0.97        30\n",
      "\n"
     ]
    }
   ],
   "source": [
    "accuracy2, report2, model2 = train_and_evaluate(x_train, x_test, y_train, y_test, kernel='linear', C=1.0, normalize=True)\n",
    "print(\"\\nЭксперимент 2: Нормализованные данные\")\n",
    "print(\"Точность:\", accuracy2)\n",
    "print(report2)"
   ]
  },
  {
   "cell_type": "markdown",
   "id": "dd1c9379-add8-42c1-885d-888d069f0e8b",
   "metadata": {},
   "source": [
    "Эксперимент 3: Нормализованные данные с измененным гиперпараметром C"
   ]
  },
  {
   "cell_type": "code",
   "execution_count": 85,
   "id": "2c30427e-d120-4fdf-8db1-e294bfcc7a9a",
   "metadata": {},
   "outputs": [
    {
     "name": "stdout",
     "output_type": "stream",
     "text": [
      "\n",
      "Эксперимент 3: Нормализованные данные, Kernel='rbf', C=10.0\n",
      "Точность: 0.9666666666666667\n",
      "              precision    recall  f1-score   support\n",
      "\n",
      "           0       1.00      1.00      1.00        10\n",
      "           1       1.00      0.89      0.94         9\n",
      "           2       0.92      1.00      0.96        11\n",
      "\n",
      "    accuracy                           0.97        30\n",
      "   macro avg       0.97      0.96      0.97        30\n",
      "weighted avg       0.97      0.97      0.97        30\n",
      "\n"
     ]
    }
   ],
   "source": [
    "accuracy3, report3, model3 = train_and_evaluate(x_train, x_test, y_train, y_test, kernel='rbf', C=10.0, normalize=True)\n",
    "print(\"\\nЭксперимент 3: Нормализованные данные, Kernel='rbf', C=10.0\")\n",
    "print(\"Точность:\", accuracy3)\n",
    "print(report3)"
   ]
  },
  {
   "cell_type": "markdown",
   "id": "f44f1b4d-6f8f-4997-85a8-d4f72346d395",
   "metadata": {},
   "source": [
    "# Шаг 14: Визуализация данных с уменьшением размерности"
   ]
  },
  {
   "cell_type": "code",
   "execution_count": 86,
   "id": "3dd8f927-54bf-4691-9b5a-f60513f16887",
   "metadata": {},
   "outputs": [],
   "source": [
    "def visualize_data(x, y, title):\n",
    "    pca = PCA(n_components=2)\n",
    "    x_reduced = pca.fit_transform(x)\n",
    "\n",
    "    plt.figure(figsize=(8, 6))\n",
    "    scatter = plt.scatter(x_reduced[:, 0], x_reduced[:, 1], c=y, cmap='viridis') \n",
    "    plt.title(title)\n",
    "    plt.xlabel('Первая компонента PCA')\n",
    "    plt.ylabel('Вторая компонента PCA')\n",
    "    plt.colorbar(scatter, ticks=[0, 1, 2], label='Тип ириса')\n",
    "    plt.clim(-0.5, 2.5)\n",
    "    plt.xticks()\n",
    "    plt.yticks()\n",
    "    plt.grid()\n",
    "    plt.show()"
   ]
  },
  {
   "cell_type": "markdown",
   "id": "8023b6e1-5047-4916-9768-46bea1c3d951",
   "metadata": {},
   "source": [
    "Визуализация оригинальных данныхю. Визуализация предсказанных данных. "
   ]
  },
  {
   "cell_type": "code",
   "execution_count": 87,
   "id": "32b434c4-9e6e-4817-83b3-8ed02b9ab334",
   "metadata": {},
   "outputs": [
    {
     "data": {
      "image/png": "[encoded data removed]",
      "text/plain": [
       "<Figure size 800x600 with 2 Axes>"
      ]
     },
     "metadata": {},
     "output_type": "display_data"
    },
    {
     "data": {
      "image/png": "[encoded data removed]",
      "text/plain": [
       "<Figure size 800x600 with 2 Axes>"
      ]
     },
     "metadata": {},
     "output_type": "display_data"
    }
   ],
   "source": [
    "visualize_data(features_normalized, labels_encoded, \"Оригинальные данные (PCA)\")\n",
    "y_pred_final = model3.predict(StandardScaler().fit_transform(features_normalized)) \n",
    "visualize_data(features_normalized, y_pred_final, \"Предсказанные данные (PCA)\")"
   ]
  },
  {
   "cell_type": "code",
   "execution_count": null,
   "id": "a26e7968-e3a6-40c8-8410-19b540bd05b7",
   "metadata": {},
   "outputs": [],
   "source": []
  },
  {
   "cell_type": "code",
   "execution_count": null,
   "id": "77a2a7df-7cdf-40be-b6d5-1d90424b4e21",
   "metadata": {},
   "outputs": [],
   "source": []
  },
  {
   "cell_type": "code",
   "execution_count": null,
   "id": "54f8a654-d9d7-48bc-993a-6392f047ddc5",
   "metadata": {},
   "outputs": [],
   "source": []
  }
 ],
 "metadata": {
  "kernelspec": {
   "display_name": "Python 3 (ipykernel)",
   "language": "python",
   "name": "python3"
  },
  "language_info": {
   "codemirror_mode": {
    "name": "ipython",
    "version": 3
   },
   "file_extension": ".py",
   "mimetype": "text/x-python",
   "name": "python",
   "nbconvert_exporter": "python",
   "pygments_lexer": "ipython3",
   "version": "3.12.1"
  }
 },
 "nbformat": 4,
 "nbformat_minor": 5
}
